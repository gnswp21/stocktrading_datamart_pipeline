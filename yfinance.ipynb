{
 "cells": [
  {
   "cell_type": "code",
   "execution_count": 27,
   "metadata": {},
   "outputs": [],
   "source": [
    "import yfinance as yf\n",
    "import pandas as pd\n",
    "\n",
    "# 대표 IT 기업의 티커 목록\n",
    "companies = {\n",
    "    \"Apple\": \"AAPL\",\n",
    "    \"Microsoft\": \"MSFT\",\n",
    "    \"Google\": \"GOOGL\",\n",
    "    \"Amazon\": \"AMZN\",\n",
    "    \"Meta\": \"META\"\n",
    "}\n",
    "\n",
    "for company, ticker in companies.items():\n",
    "        # 각 기업의 주식 정보를 가져오기\n",
    "        print(f\"Fetching data for {company} ({ticker})...\")\n",
    "\n",
    "        # yfinance에서 분단위 데이터를 가져오기 위해 interval='1m' 지정\n",
    "        # start, end 파라미터로 2024-12-26 ~ 2024-12-28 지정\n",
    "        # end 날짜는 일반적으로 지정된 당일 데이터를 포함하지 않으므로\n",
    "        # 12월 28일까지 포함하기 위해 end를 12월 29일로 설정(실제로는 28일 장마감까지 데이터 수집)\n",
    "        data = yf.download(\n",
    "        tickers=ticker,\n",
    "        start=\"2024-12-25\",\n",
    "        end=\"2024-12-29\",    # 28일 데이터 포함을 위해 29일로 설정\n",
    "        interval=\"1m\"\n",
    "        )\n",
    "\n",
    "        # 회사명 추가\n",
    "        data[\"Company\"] = company\n",
    "        data[\"ticker\"] = ticker\n",
    "        data.columns = data.columns.droplevel('Ticker')\n",
    "        data.columns = ['_'.join(col).strip() if isinstance(col, tuple) else col for col in data.columns]\n",
    "        data = data.reset_index()\n",
    "\n",
    "        # 데이터프레임을 CSV 파일로 저장 (overwrite 모드)\n",
    "        filename = f\"input/stock/{ticker}_data.csv\"\n",
    "        data.to_csv(filename, mode='w', index=True)\n",
    "        print(f\"Data for {company} ({ticker}) saved to {filename}.\")"
   ]
  }
 ],
 "metadata": {
  "kernelspec": {
   "display_name": "Python 3 (ipykernel)",
   "language": "python",
   "name": "python3"
  }
 },
 "nbformat": 4,
 "nbformat_minor": 2
}
